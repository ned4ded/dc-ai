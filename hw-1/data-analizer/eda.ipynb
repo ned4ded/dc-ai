{
 "cells": [
  {
   "cell_type": "markdown",
   "id": "f0f2dbec-9815-4c12-aff3-214dae55ec2b",
   "metadata": {},
   "source": [
    "# Notebook\n",
    "\n",
    "В рамках блокнота планируется провести EDA данных по ценам на видеокарты. Структура блокнота:\n",
    "1. Характеристика данных\n",
    "    1. Датасет с текущими ценами\n",
    "        1. Описание датасета\n",
    "        2. Подготовка и очистка данных\n",
    "        3. Оценка качества данных\n",
    "    2. Датасет с историческими ценами\n",
    "2. Анализ данных"
   ]
  },
  {
   "cell_type": "code",
   "execution_count": 2,
   "id": "291d2120-50a4-4168-993b-1b073a4e32b4",
   "metadata": {},
   "outputs": [
    {
     "name": "stdout",
     "output_type": "stream",
     "text": [
      "CPU times: user 1e+03 ns, sys: 1e+03 ns, total: 2 µs\n",
      "Wall time: 3.34 µs\n"
     ]
    }
   ],
   "source": [
    "import pandas as pd\n",
    "import matplotlib as mtl\n",
    "import matplotlib.pyplot as plt\n",
    "import re\n",
    "from IPython.display import JSON\n",
    "\n",
    "gpus_current_df = pd.read_json('data/pcbuilder_gpus_current.json')\n",
    "gpus_outdated_df = pd.read_csv('data/pcbuilder_gpus_outdated.csv', encoding='latin-1')\n",
    "\n",
    "%time"
   ]
  },
  {
   "cell_type": "markdown",
   "id": "e19013f2",
   "metadata": {},
   "source": [
    "## Характеритсика данных"
   ]
  },
  {
   "cell_type": "markdown",
   "id": "f9e34f6a",
   "metadata": {},
   "source": [
    "### Описание данных `gpus_outdated_df`"
   ]
  },
  {
   "cell_type": "markdown",
   "id": "f69faa39",
   "metadata": {},
   "source": [
    "Датасет `gpus_outdated_df` содержит список моделей видеокарт с характеристиками и ценами с Amazon. Датасет собран год назад, так что цены не являются актуальными. Датасет взят с kaggle [GPU Specs and Latest Prices](https://www.kaggle.com/datasets/shilongzhuang/gpu-prices-prediction)."
   ]
  },
  {
   "cell_type": "code",
   "execution_count": 37,
   "id": "a48cdecc",
   "metadata": {},
   "outputs": [
    {
     "name": "stdout",
     "output_type": "stream",
     "text": [
      "<class 'pandas.core.frame.DataFrame'>\n",
      "RangeIndex: 311 entries, 0 to 310\n",
      "Data columns (total 14 columns):\n",
      " #   Column            Non-Null Count  Dtype \n",
      "---  ------            --------------  ----- \n",
      " 0   name              311 non-null    object\n",
      " 1   brand             311 non-null    object\n",
      " 2   model             311 non-null    object\n",
      " 3   memory            311 non-null    object\n",
      " 4   memory_interface  311 non-null    object\n",
      " 5   length            311 non-null    object\n",
      " 6   interface         311 non-null    object\n",
      " 7   chipset           311 non-null    object\n",
      " 8   base_clock        311 non-null    object\n",
      " 9   clock_speed       311 non-null    object\n",
      " 10  frame_sync        311 non-null    object\n",
      " 11  price             311 non-null    object\n",
      " 12  item_url          311 non-null    object\n",
      " 13  used              311 non-null    int64 \n",
      "dtypes: int64(1), object(13)\n",
      "memory usage: 34.1+ KB\n"
     ]
    }
   ],
   "source": [
    "# выводим данные по колонкам для анализа\n",
    "gpus_outdated_df.info()"
   ]
  },
  {
   "cell_type": "markdown",
   "id": "1ca5f419",
   "metadata": {},
   "source": [
    "\n",
    "Датасеты содержат 13 столбцов:\n",
    "- `name`: название продукта;\n",
    "    - требуется проверка на дубликаты;\n",
    "- `brand`: название бренда, выпускающего продукт;\n",
    "    - требуется проверка на дубликаты;\n",
    "- `model`: конкретная модель видеокарты от производителя;\n",
    "    - проверка не требуется, т.к. одна модель может быть у разных продуктов; \n",
    "- `memory`: объем видеопамяти;\n",
    "    - требуется проверка на целостность данных\n",
    "- `memory_interface`: тип видеопамяти;\n",
    "- `length`: длина видеокарты; \n",
    "- `interface`: тип шины для обмена данными с материнской платой;\n",
    "- `chipset`: строго говоря, это не чипсет, а модель графического процессора, используемого в видеокарте;\n",
    "- `base_clock`: базовая частота работы процессора (МГц);\n",
    "- `clock_speed`: максимальная частота работы процессора (МГц);\n",
    "- `frame_sync`: технология синхронизации кадров;\n",
    "- `price`: цена на Amazon на момент сбора датасета;\n",
    "- `item_url`: ссылка на видеокарту; \n",
    "- `used`: является ли указанная цена ценой на поддержанную видеокарту;"
   ]
  },
  {
   "cell_type": "code",
   "execution_count": 4,
   "id": "276e2686",
   "metadata": {},
   "outputs": [
    {
     "data": {
      "application/json": [
       {
        "base_clock": " 1395 MHz ",
        "brand": "MSI",
        "chipset": " GeForce RTX 3090 ",
        "clock_speed": " 1785 MHz ",
        "frame_sync": " G-Sync ",
        "interface": " PCIe x16 ",
        "item_url": "https://pcbuilder.net/component-details/graphics-card/msi-rtx-3090-gaming-x-trio-24g-3090gamingxtrio24g/",
        "length": " 335 mm ",
        "memory": " 24 GB ",
        "memory_interface": " GDRR6X ",
        "model": " RTX 3090 GAMING X TRIO 24G ",
        "name": "MSI Gaming GeForce RTX 3090 24GB GDRR6X 384-Bit HDMI/DP Nvlink Tri-Frozr 2 Ampere Architecture OC Graphics Card (RTX 3090 GAMING X TRIO 24G)",
        "price": "$1,289.99 ",
        "used": 0
       },
       {
        "base_clock": " 1395 MHz ",
        "brand": "EVGA",
        "chipset": " GeForce RTX 3090 ",
        "clock_speed": " 1800 MHz ",
        "frame_sync": " G-Sync ",
        "interface": " PCIe x16 ",
        "item_url": "https://pcbuilder.net/component-details/graphics-card/evga-geforce-rtx-3090-24g-p5-3987-kr/",
        "length": " 300 mm ",
        "memory": " 24 GB ",
        "memory_interface": " GDDR6X ",
        "model": " RTX 3090 FTW3 Ultra ",
        "name": "EVGA GeForce RTX 3090 FTW3 Ultra Gaming, 24GB GDDR6X, iCX3 Technology, ARGB LED, Metal Backplate",
        "price": "$1,199.99 ",
        "used": 0
       },
       {
        "base_clock": " 1395 MHz ",
        "brand": "ASUS",
        "chipset": " GeForce RTX 3090 ",
        "clock_speed": " 1890 MHz ",
        "frame_sync": " G-Sync ",
        "interface": " PCIe x16 ",
        "item_url": "https://pcbuilder.net/component-details/graphics-card/asus-rog-strix-rtx-3090-oc-edition-rog-strix-rtx3090-o24g-white/",
        "length": " 318.5 mm ",
        "memory": " 24 GB ",
        "memory_interface": " GDDR6X ",
        "model": " ROG Strix RTX 3090 OC Edition ",
        "name": "ASUS ROG Strix NVIDIA GeForce RTX 3090 White OC Edition Gaming Graphics Card (PCIe 4.0, 24GB GDDR6X, HDMI 2.1, DisplayPort 1.4a",
        "price": "$1,794.99 ",
        "used": 0
       },
       {
        "base_clock": " 1395 MHz ",
        "brand": "MSI",
        "chipset": " GeForce RTX 3090 ",
        "clock_speed": " 1875 MHz ",
        "frame_sync": " G-Sync ",
        "interface": " PCIe x16 ",
        "item_url": "https://pcbuilder.net/component-details/graphics-card/msi-rtx-3090-suprim-x-24g-3090-suprim-x-24g/",
        "length": " 336 mm ",
        "memory": " 24 GB ",
        "memory_interface": " GDDR6X ",
        "model": " RTX 3090 SUPRIM X 24G ",
        "name": "MSI Gaming GeForce RTX 3090 24GB GDRR6X 384-Bit HDMI/DP 1875 MHz Ampere Architecture OC Graphics Card (RTX 3090 Suprim X 24G)",
        "price": "$2,017.21 ",
        "used": 0
       },
       {
        "base_clock": " 1395 MHz ",
        "brand": "Gigabyte",
        "chipset": " GeForce RTX 3090 ",
        "clock_speed": " 1860 MHz ",
        "frame_sync": " G-Sync ",
        "interface": " PCIe x16 ",
        "item_url": "https://pcbuilder.net/component-details/graphics-card/gigabyte-aorus-rtx-3090-xtreme-24g-gv-n3090aorus-x-24gd/",
        "length": " 319 mm ",
        "memory": " 24 GB ",
        "memory_interface": " GDDR6X ",
        "model": " AORUS RTX 3090 Xtreme 24G ",
        "name": "GIGABYTE AORUS GeForce RTX 3090 Xtreme 24G Graphics Card, Max Covered Cooling, 24GB 384-bit GDDR6X Video Card",
        "price": "$3,399.99 ",
        "used": 0
       }
      ],
      "text/plain": [
       "<IPython.core.display.JSON object>"
      ]
     },
     "execution_count": 4,
     "metadata": {
      "application/json": {
       "expanded": false,
       "root": "root"
      }
     },
     "output_type": "execute_result"
    }
   ],
   "source": [
    "# пример данных в формате JSON, проверка на наличие скрытых символов в строках\n",
    "JSON(gpus_outdated_df.head(5).to_dict(orient='records'))"
   ]
  },
  {
   "cell_type": "code",
   "execution_count": 99,
   "id": "3de92e71",
   "metadata": {},
   "outputs": [
    {
     "data": {
      "text/html": [
       "<div>\n",
       "<style scoped>\n",
       "    .dataframe tbody tr th:only-of-type {\n",
       "        vertical-align: middle;\n",
       "    }\n",
       "\n",
       "    .dataframe tbody tr th {\n",
       "        vertical-align: top;\n",
       "    }\n",
       "\n",
       "    .dataframe thead th {\n",
       "        text-align: right;\n",
       "    }\n",
       "</style>\n",
       "<table border=\"1\" class=\"dataframe\">\n",
       "  <thead>\n",
       "    <tr style=\"text-align: right;\">\n",
       "      <th></th>\n",
       "      <th>name</th>\n",
       "      <th>brand</th>\n",
       "      <th>model</th>\n",
       "      <th>memory</th>\n",
       "      <th>memory_interface</th>\n",
       "      <th>length</th>\n",
       "      <th>interface</th>\n",
       "      <th>chipset</th>\n",
       "      <th>base_clock</th>\n",
       "      <th>clock_speed</th>\n",
       "      <th>frame_sync</th>\n",
       "      <th>price</th>\n",
       "      <th>item_url</th>\n",
       "      <th>used</th>\n",
       "    </tr>\n",
       "  </thead>\n",
       "  <tbody>\n",
       "    <tr>\n",
       "      <th>0</th>\n",
       "      <td>MSI Gaming GeForce RTX 3090 24GB GDRR6X 384-Bit HDMI/DP Nvlink Tri-Frozr 2 Ampere Architecture OC Graphics Card (RTX 3090 GAMING X TRIO 24G)</td>\n",
       "      <td>MSI</td>\n",
       "      <td>RTX 3090 GAMING X TRIO 24G</td>\n",
       "      <td>24 GB</td>\n",
       "      <td>GDRR6X</td>\n",
       "      <td>335 mm</td>\n",
       "      <td>PCIe x16</td>\n",
       "      <td>GeForce RTX 3090</td>\n",
       "      <td>1395 MHz</td>\n",
       "      <td>1785 MHz</td>\n",
       "      <td>G-Sync</td>\n",
       "      <td>$1,289.99</td>\n",
       "      <td>https://pcbuilder.net/component-details/graphics-card/msi-rtx-3090-gaming-x-trio-24g-3090gamingxtrio24g/</td>\n",
       "      <td>0</td>\n",
       "    </tr>\n",
       "    <tr>\n",
       "      <th>1</th>\n",
       "      <td>EVGA GeForce RTX 3090 FTW3 Ultra Gaming, 24GB GDDR6X, iCX3 Technology, ARGB LED, Metal Backplate</td>\n",
       "      <td>EVGA</td>\n",
       "      <td>RTX 3090 FTW3 Ultra</td>\n",
       "      <td>24 GB</td>\n",
       "      <td>GDDR6X</td>\n",
       "      <td>300 mm</td>\n",
       "      <td>PCIe x16</td>\n",
       "      <td>GeForce RTX 3090</td>\n",
       "      <td>1395 MHz</td>\n",
       "      <td>1800 MHz</td>\n",
       "      <td>G-Sync</td>\n",
       "      <td>$1,199.99</td>\n",
       "      <td>https://pcbuilder.net/component-details/graphics-card/evga-geforce-rtx-3090-24g-p5-3987-kr/</td>\n",
       "      <td>0</td>\n",
       "    </tr>\n",
       "    <tr>\n",
       "      <th>2</th>\n",
       "      <td>ASUS ROG Strix NVIDIA GeForce RTX 3090 White OC Edition Gaming Graphics Card (PCIe 4.0, 24GB GDDR6X, HDMI 2.1, DisplayPort 1.4a</td>\n",
       "      <td>ASUS</td>\n",
       "      <td>ROG Strix RTX 3090 OC Edition</td>\n",
       "      <td>24 GB</td>\n",
       "      <td>GDDR6X</td>\n",
       "      <td>318.5 mm</td>\n",
       "      <td>PCIe x16</td>\n",
       "      <td>GeForce RTX 3090</td>\n",
       "      <td>1395 MHz</td>\n",
       "      <td>1890 MHz</td>\n",
       "      <td>G-Sync</td>\n",
       "      <td>$1,794.99</td>\n",
       "      <td>https://pcbuilder.net/component-details/graphics-card/asus-rog-strix-rtx-3090-oc-edition-rog-strix-rtx3090-o24g-white/</td>\n",
       "      <td>0</td>\n",
       "    </tr>\n",
       "  </tbody>\n",
       "</table>\n",
       "</div>"
      ],
      "text/plain": [
       "                                                                                                                                           name  \\\n",
       "0  MSI Gaming GeForce RTX 3090 24GB GDRR6X 384-Bit HDMI/DP Nvlink Tri-Frozr 2 Ampere Architecture OC Graphics Card (RTX 3090 GAMING X TRIO 24G)   \n",
       "1                                              EVGA GeForce RTX 3090 FTW3 Ultra Gaming, 24GB GDDR6X, iCX3 Technology, ARGB LED, Metal Backplate   \n",
       "2               ASUS ROG Strix NVIDIA GeForce RTX 3090 White OC Edition Gaming Graphics Card (PCIe 4.0, 24GB GDDR6X, HDMI 2.1, DisplayPort 1.4a   \n",
       "\n",
       "  brand                            model   memory memory_interface  \\\n",
       "0   MSI      RTX 3090 GAMING X TRIO 24G    24 GB           GDRR6X    \n",
       "1  EVGA             RTX 3090 FTW3 Ultra    24 GB           GDDR6X    \n",
       "2  ASUS   ROG Strix RTX 3090 OC Edition    24 GB           GDDR6X    \n",
       "\n",
       "       length   interface             chipset  base_clock clock_speed  \\\n",
       "0     335 mm    PCIe x16    GeForce RTX 3090    1395 MHz    1785 MHz    \n",
       "1     300 mm    PCIe x16    GeForce RTX 3090    1395 MHz    1800 MHz    \n",
       "2   318.5 mm    PCIe x16    GeForce RTX 3090    1395 MHz    1890 MHz    \n",
       "\n",
       "  frame_sync       price  \\\n",
       "0    G-Sync   $1,289.99    \n",
       "1    G-Sync   $1,199.99    \n",
       "2    G-Sync   $1,794.99    \n",
       "\n",
       "                                                                                                                 item_url  \\\n",
       "0                https://pcbuilder.net/component-details/graphics-card/msi-rtx-3090-gaming-x-trio-24g-3090gamingxtrio24g/   \n",
       "1                             https://pcbuilder.net/component-details/graphics-card/evga-geforce-rtx-3090-24g-p5-3987-kr/   \n",
       "2  https://pcbuilder.net/component-details/graphics-card/asus-rog-strix-rtx-3090-oc-edition-rog-strix-rtx3090-o24g-white/   \n",
       "\n",
       "   used  \n",
       "0     0  \n",
       "1     0  \n",
       "2     0  "
      ]
     },
     "execution_count": 99,
     "metadata": {},
     "output_type": "execute_result"
    }
   ],
   "source": [
    "# пример данных\n",
    "gpus_outdated_df.head(3)"
   ]
  },
  {
   "cell_type": "markdown",
   "id": "54e40cc1",
   "metadata": {},
   "source": []
  },
  {
   "cell_type": "code",
   "execution_count": 40,
   "id": "c8984cc3",
   "metadata": {},
   "outputs": [
    {
     "data": {
      "text/plain": [
       "brand\n",
       "MSI                   67\n",
       "Gigabyte              45\n",
       "ASUS                  38\n",
       "EVGA                  37\n",
       "ZOTAC                 27\n",
       "PowerColor            21\n",
       "XFX                   16\n",
       "SapphireTechnology    14\n",
       "Asus                  11\n",
       "ASRock                 7\n",
       "NVIDIA                 6\n",
       "PNY                    5\n",
       "NekidCow               5\n",
       "SAPPHIRE               2\n",
       "VisionTek              2\n",
       "HIS                    2\n",
       "Inno3D                 1\n",
       "ZOTACGAMING            1\n",
       "Sapphire               1\n",
       "ASROCK                 1\n",
       "AMD                    1\n",
       "DiamondMultimedia      1\n",
       "Name: count, dtype: int64"
      ]
     },
     "execution_count": 40,
     "metadata": {},
     "output_type": "execute_result"
    }
   ],
   "source": [
    "# ищем дубликаты брендов\n",
    "gpus_outdated_df['brand'].value_counts()"
   ]
  },
  {
   "cell_type": "markdown",
   "id": "3c97afe1",
   "metadata": {},
   "source": [
    "В датасете присутствуют следующие дубликаты:\n",
    "- SapphireTechnology, SAPPHIRE, Sapphire\n",
    "- ASRock, ASROCK\n",
    "- ZOTAC, ZOTACGAMING"
   ]
  },
  {
   "cell_type": "code",
   "execution_count": 62,
   "id": "0aef264b",
   "metadata": {},
   "outputs": [
    {
     "name": "stdout",
     "output_type": "stream",
     "text": [
      "unsuitable clock_speed values found: 0\n"
     ]
    }
   ],
   "source": [
    "# проверяем целостность данных clock_speed по паттерну '<any_number> MHz'\n",
    "\n",
    "mhz_pattern = r'\\d+ MHz$'\n",
    "mask = gpus_outdated_df['clock_speed'].str.contains(mhz_pattern, regex=True)\n",
    "print(f'unsuitable clock_speed values found: {len(gpus_outdated_df[mask])}')"
   ]
  },
  {
   "cell_type": "markdown",
   "id": "cae3a101",
   "metadata": {},
   "source": [
    "В датасет нет неподходящих значений `clock_speed`."
   ]
  },
  {
   "cell_type": "markdown",
   "id": "39188601",
   "metadata": {},
   "source": [
    "---"
   ]
  },
  {
   "cell_type": "markdown",
   "id": "ba02de24",
   "metadata": {},
   "source": [
    "Датасет `gpus_current_df` содержит список моделей видеокарт с характеристиками и актуальными ценами с Amazon. Датасет собран с сайта [pcbuilder.net](https://pcbuilder.net/product/graphics-card/). Загрузка осуществлена с помощью скрипта [парсера](../parser/)."
   ]
  },
  {
   "cell_type": "code",
   "execution_count": 5,
   "id": "7f38761b",
   "metadata": {},
   "outputs": [
    {
     "name": "stdout",
     "output_type": "stream",
     "text": [
      "<class 'pandas.core.frame.DataFrame'>\n",
      "RangeIndex: 990 entries, 0 to 989\n",
      "Data columns (total 13 columns):\n",
      " #   Column            Non-Null Count  Dtype  \n",
      "---  ------            --------------  -----  \n",
      " 0   name              990 non-null    object \n",
      " 1   brand             990 non-null    object \n",
      " 2   model             990 non-null    object \n",
      " 3   memory            990 non-null    object \n",
      " 4   memory_interface  990 non-null    object \n",
      " 5   length            990 non-null    object \n",
      " 6   interface         990 non-null    object \n",
      " 7   chipset           990 non-null    object \n",
      " 8   base_clock        990 non-null    object \n",
      " 9   clock_speed       990 non-null    object \n",
      " 10  frame_sync        990 non-null    object \n",
      " 11  price             990 non-null    float64\n",
      " 12  item_url          990 non-null    object \n",
      "dtypes: float64(1), object(12)\n",
      "memory usage: 100.7+ KB\n"
     ]
    }
   ],
   "source": [
    "gpus_current_df.info()"
   ]
  },
  {
   "cell_type": "code",
   "execution_count": 13,
   "id": "a0e1247c-0f63-49aa-b502-129fce97ee7e",
   "metadata": {},
   "outputs": [
    {
     "data": {
      "application/json": {
       "cell": {
        "!": "OSMagics",
        "HTML": "Other",
        "SVG": "Other",
        "bash": "Other",
        "capture": "ExecutionMagics",
        "code_wrap": "ExecutionMagics",
        "debug": "ExecutionMagics",
        "file": "Other",
        "html": "DisplayMagics",
        "javascript": "DisplayMagics",
        "js": "DisplayMagics",
        "latex": "DisplayMagics",
        "markdown": "DisplayMagics",
        "perl": "Other",
        "prun": "ExecutionMagics",
        "pypy": "Other",
        "python": "Other",
        "python2": "Other",
        "python3": "Other",
        "ruby": "Other",
        "script": "ScriptMagics",
        "sh": "Other",
        "svg": "DisplayMagics",
        "sx": "OSMagics",
        "system": "OSMagics",
        "time": "ExecutionMagics",
        "timeit": "ExecutionMagics",
        "writefile": "OSMagics"
       },
       "line": {
        "alias": "OSMagics",
        "alias_magic": "BasicMagics",
        "autoawait": "AsyncMagics",
        "autocall": "AutoMagics",
        "automagic": "AutoMagics",
        "autosave": "KernelMagics",
        "bookmark": "OSMagics",
        "cat": "Other",
        "cd": "OSMagics",
        "clear": "KernelMagics",
        "code_wrap": "ExecutionMagics",
        "colors": "BasicMagics",
        "conda": "PackagingMagics",
        "config": "ConfigMagics",
        "connect_info": "KernelMagics",
        "cp": "Other",
        "debug": "ExecutionMagics",
        "dhist": "OSMagics",
        "dirs": "OSMagics",
        "doctest_mode": "BasicMagics",
        "ed": "Other",
        "edit": "KernelMagics",
        "env": "OSMagics",
        "gui": "BasicMagics",
        "hist": "Other",
        "history": "HistoryMagics",
        "killbgscripts": "ScriptMagics",
        "ldir": "Other",
        "less": "KernelMagics",
        "lf": "Other",
        "lk": "Other",
        "ll": "Other",
        "load": "CodeMagics",
        "load_ext": "ExtensionMagics",
        "loadpy": "CodeMagics",
        "logoff": "LoggingMagics",
        "logon": "LoggingMagics",
        "logstart": "LoggingMagics",
        "logstate": "LoggingMagics",
        "logstop": "LoggingMagics",
        "ls": "Other",
        "lsmagic": "BasicMagics",
        "lx": "Other",
        "macro": "ExecutionMagics",
        "magic": "BasicMagics",
        "mamba": "PackagingMagics",
        "man": "KernelMagics",
        "matplotlib": "PylabMagics",
        "micromamba": "PackagingMagics",
        "mkdir": "Other",
        "more": "KernelMagics",
        "mv": "Other",
        "notebook": "BasicMagics",
        "page": "BasicMagics",
        "pastebin": "CodeMagics",
        "pdb": "ExecutionMagics",
        "pdef": "NamespaceMagics",
        "pdoc": "NamespaceMagics",
        "pfile": "NamespaceMagics",
        "pinfo": "NamespaceMagics",
        "pinfo2": "NamespaceMagics",
        "pip": "PackagingMagics",
        "popd": "OSMagics",
        "pprint": "BasicMagics",
        "precision": "BasicMagics",
        "prun": "ExecutionMagics",
        "psearch": "NamespaceMagics",
        "psource": "NamespaceMagics",
        "pushd": "OSMagics",
        "pwd": "OSMagics",
        "pycat": "OSMagics",
        "pylab": "PylabMagics",
        "qtconsole": "KernelMagics",
        "quickref": "BasicMagics",
        "recall": "HistoryMagics",
        "rehashx": "OSMagics",
        "reload_ext": "ExtensionMagics",
        "rep": "Other",
        "rerun": "HistoryMagics",
        "reset": "NamespaceMagics",
        "reset_selective": "NamespaceMagics",
        "rm": "Other",
        "rmdir": "Other",
        "run": "ExecutionMagics",
        "save": "CodeMagics",
        "sc": "OSMagics",
        "set_env": "OSMagics",
        "store": "StoreMagics",
        "sx": "OSMagics",
        "system": "OSMagics",
        "tb": "ExecutionMagics",
        "time": "ExecutionMagics",
        "timeit": "ExecutionMagics",
        "unalias": "OSMagics",
        "unload_ext": "ExtensionMagics",
        "who": "NamespaceMagics",
        "who_ls": "NamespaceMagics",
        "whos": "NamespaceMagics",
        "xdel": "NamespaceMagics",
        "xmode": "BasicMagics"
       }
      },
      "text/plain": [
       "Available line magics:\n",
       "%alias  %alias_magic  %autoawait  %autocall  %automagic  %autosave  %bookmark  %cat  %cd  %clear  %code_wrap  %colors  %conda  %config  %connect_info  %cp  %debug  %dhist  %dirs  %doctest_mode  %ed  %edit  %env  %gui  %hist  %history  %killbgscripts  %ldir  %less  %lf  %lk  %ll  %load  %load_ext  %loadpy  %logoff  %logon  %logstart  %logstate  %logstop  %ls  %lsmagic  %lx  %macro  %magic  %mamba  %man  %matplotlib  %micromamba  %mkdir  %more  %mv  %notebook  %page  %pastebin  %pdb  %pdef  %pdoc  %pfile  %pinfo  %pinfo2  %pip  %popd  %pprint  %precision  %prun  %psearch  %psource  %pushd  %pwd  %pycat  %pylab  %qtconsole  %quickref  %recall  %rehashx  %reload_ext  %rep  %rerun  %reset  %reset_selective  %rm  %rmdir  %run  %save  %sc  %set_env  %store  %sx  %system  %tb  %time  %timeit  %unalias  %unload_ext  %who  %who_ls  %whos  %xdel  %xmode\n",
       "\n",
       "Available cell magics:\n",
       "%%!  %%HTML  %%SVG  %%bash  %%capture  %%code_wrap  %%debug  %%file  %%html  %%javascript  %%js  %%latex  %%markdown  %%perl  %%prun  %%pypy  %%python  %%python2  %%python3  %%ruby  %%script  %%sh  %%svg  %%sx  %%system  %%time  %%timeit  %%writefile\n",
       "\n",
       "Automagic is ON, % prefix IS NOT needed for line magics."
      ]
     },
     "execution_count": 13,
     "metadata": {},
     "output_type": "execute_result"
    }
   ],
   "source": [
    "%lsmagic"
   ]
  },
  {
   "cell_type": "code",
   "execution_count": 20,
   "id": "99a4b452-54a2-449f-92c2-623e63ca4d5d",
   "metadata": {},
   "outputs": [
    {
     "data": {
      "text/plain": [
       "\u001b[0;31mDocstring:\u001b[0m\n",
       "Render the cell as a block of LaTeX\n",
       "\n",
       "The subset of LaTeX which is supported depends on the implementation in\n",
       "the client.  In the Jupyter Notebook, this magic only renders the subset\n",
       "of LaTeX defined by MathJax\n",
       "[here](https://docs.mathjax.org/en/v2.5-latest/tex.html).\n",
       "\u001b[0;31mFile:\u001b[0m      ~/courses/dc-ai/hw-1/data-analizer/.venv/lib/python3.10/site-packages/IPython/core/magics/display.py"
      ]
     },
     "metadata": {},
     "output_type": "display_data"
    }
   ],
   "source": [
    "%%latex?"
   ]
  }
 ],
 "metadata": {
  "kernelspec": {
   "display_name": "Python 3 (ipykernel)",
   "language": "python",
   "name": "python3"
  },
  "language_info": {
   "codemirror_mode": {
    "name": "ipython",
    "version": 3
   },
   "file_extension": ".py",
   "mimetype": "text/x-python",
   "name": "python",
   "nbconvert_exporter": "python",
   "pygments_lexer": "ipython3",
   "version": "3.10.6"
  }
 },
 "nbformat": 4,
 "nbformat_minor": 5
}
