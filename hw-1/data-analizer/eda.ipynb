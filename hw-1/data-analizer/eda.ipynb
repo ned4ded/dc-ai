{
 "cells": [
  {
   "cell_type": "markdown",
   "id": "806cedc5-7d58-4f59-a8ea-f212a1f4e362",
   "metadata": {},
   "source": [
    "### Анализ рынка видеокарт\n",
    "\n",
    "Для статистического анализа рынка видеокарт собраны следующие данные:\n",
    "1. "
   ]
  },
  {
   "cell_type": "code",
   "execution_count": 49,
   "id": "291d2120-50a4-4168-993b-1b073a4e32b4",
   "metadata": {},
   "outputs": [],
   "source": [
    "import pandas as pd\n",
    "import matplotlib as mtl\n",
    "import matplotlib.pyplot as plt\n",
    "import re"
   ]
  }
 ],
 "metadata": {
  "kernelspec": {
   "display_name": "Python 3 (ipykernel)",
   "language": "python",
   "name": "python3"
  },
  "language_info": {
   "codemirror_mode": {
    "name": "ipython",
    "version": 3
   },
   "file_extension": ".py",
   "mimetype": "text/x-python",
   "name": "python",
   "nbconvert_exporter": "python",
   "pygments_lexer": "ipython3",
   "version": "3.10.6"
  }
 },
 "nbformat": 4,
 "nbformat_minor": 5
}
