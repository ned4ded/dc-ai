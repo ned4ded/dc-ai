{
 "cells": [
  {
   "cell_type": "markdown",
   "id": "f0f2dbec-9815-4c12-aff3-214dae55ec2b",
   "metadata": {},
   "source": [
    "### Notebook\n",
    "\n",
    "Hello, this is a basic notebook, how am i lookin?"
   ]
  },
  {
   "cell_type": "code",
   "execution_count": 4,
   "id": "291d2120-50a4-4168-993b-1b073a4e32b4",
   "metadata": {},
   "outputs": [],
   "source": [
    "import pandas as pd\n",
    "import os\n",
    "import matplotlib as mtl\n",
    "import matplotlib.pyplot as plt\n",
    "\n",
    "gpus_outdated_df = pd.read_csv('data/pcbuilder_gpus_outdated.csv', encoding='latin-1')\n",
    "gpus_current_df = pd.read_json('data/pcbuilder_gpus_current.json')"
   ]
  },
  {
   "cell_type": "code",
   "execution_count": null,
   "id": "99a4b452-54a2-449f-92c2-623e63ca4d5d",
   "metadata": {},
   "outputs": [],
   "source": []
  }
 ],
 "metadata": {
  "kernelspec": {
   "display_name": "Python 3 (ipykernel)",
   "language": "python",
   "name": "python3"
  },
  "language_info": {
   "codemirror_mode": {
    "name": "ipython",
    "version": 3
   },
   "file_extension": ".py",
   "mimetype": "text/x-python",
   "name": "python",
   "nbconvert_exporter": "python",
   "pygments_lexer": "ipython3",
   "version": "3.10.6"
  }
 },
 "nbformat": 4,
 "nbformat_minor": 5
}
