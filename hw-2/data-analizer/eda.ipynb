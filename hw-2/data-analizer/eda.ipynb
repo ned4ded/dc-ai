{
 "cells": [
  {
   "cell_type": "markdown",
   "metadata": {},
   "source": [
    "## Data Annotation Homework EDA\n",
    "В данном документе описываются структура, способ сбора и аннотации данных по практическому заданию #2 курса DC-AI."
   ]
  },
  {
   "cell_type": "code",
   "execution_count": 185,
   "metadata": {},
   "outputs": [],
   "source": [
    "import numpy as np\n",
    "import pandas as pd\n",
    "import matplotlib as mtl\n",
    "import matplotlib.pyplot as plt\n",
    "from sklearn.metrics import cohen_kappa_score\n",
    "import os\n",
    "import json"
   ]
  },
  {
   "cell_type": "markdown",
   "metadata": {},
   "source": [
    "В рамках выполнения задачи собраны следующие датасеты:\n",
    "- `data/websites.json` - набор распаршенных сайтов, по которым собраны скриншоты,\n",
    "- `data/data_markup_1/*` - набор размечанных данных Разметчиком #1 по скриншотам датасета websites,\n",
    "- `data/data_markup_2/*` - набор размечанных данных Разметчиком #2 по скриншотам датасета websites,\n",
    "- `data/data_markup_review.csv` - данные о корректности разметки по каждому элементу датсета websites."
   ]
  },
  {
   "cell_type": "markdown",
   "metadata": {},
   "source": [
    "### Датасет websites\n",
    "\n",
    "Датасет собран с сайта `similarweb.com` путем парсинга рейтинга самых популярных сайтов. По каждому сайту в датасете веб-скраппер сделал скиншот, сохраненный в папке `data/screenshots/`. В датасет не включены сайты, доступ к которому веб-скраперу не удалось получить или попытка загрузить сайт закончилась ошибкой. "
   ]
  },
  {
   "cell_type": "code",
   "execution_count": 186,
   "metadata": {},
   "outputs": [
    {
     "name": "stdout",
     "output_type": "stream",
     "text": [
      "<class 'pandas.core.frame.DataFrame'>\n",
      "RangeIndex: 109 entries, 0 to 108\n",
      "Data columns (total 5 columns):\n",
      " #   Column    Non-Null Count  Dtype \n",
      "---  ------    --------------  ----- \n",
      " 0   position  109 non-null    int64 \n",
      " 1   name      109 non-null    object\n",
      " 2   url       109 non-null    object\n",
      " 3   category  109 non-null    object\n",
      " 4   path      109 non-null    object\n",
      "dtypes: int64(1), object(4)\n",
      "memory usage: 4.4+ KB\n",
      "None\n"
     ]
    },
    {
     "data": {
      "text/html": [
       "<div>\n",
       "<style scoped>\n",
       "    .dataframe tbody tr th:only-of-type {\n",
       "        vertical-align: middle;\n",
       "    }\n",
       "\n",
       "    .dataframe tbody tr th {\n",
       "        vertical-align: top;\n",
       "    }\n",
       "\n",
       "    .dataframe thead th {\n",
       "        text-align: right;\n",
       "    }\n",
       "</style>\n",
       "<table border=\"1\" class=\"dataframe\">\n",
       "  <thead>\n",
       "    <tr style=\"text-align: right;\">\n",
       "      <th></th>\n",
       "      <th>position</th>\n",
       "      <th>name</th>\n",
       "      <th>url</th>\n",
       "      <th>category</th>\n",
       "      <th>path</th>\n",
       "    </tr>\n",
       "  </thead>\n",
       "  <tbody>\n",
       "    <tr>\n",
       "      <th>0</th>\n",
       "      <td>2</td>\n",
       "      <td>zillow.com</td>\n",
       "      <td>https://zillow.com/</td>\n",
       "      <td>business-and-consumer-services</td>\n",
       "      <td>screenshots/8c9df540_https___zillow.com_.png</td>\n",
       "    </tr>\n",
       "    <tr>\n",
       "      <th>1</th>\n",
       "      <td>3</td>\n",
       "      <td>usps.com</td>\n",
       "      <td>https://usps.com/</td>\n",
       "      <td>business-and-consumer-services</td>\n",
       "      <td>screenshots/4e4f3456_https___usps.com_.png</td>\n",
       "    </tr>\n",
       "    <tr>\n",
       "      <th>2</th>\n",
       "      <td>6</td>\n",
       "      <td>ups.com</td>\n",
       "      <td>https://ups.com/</td>\n",
       "      <td>business-and-consumer-services</td>\n",
       "      <td>screenshots/232df189_https___ups.com_.png</td>\n",
       "    </tr>\n",
       "    <tr>\n",
       "      <th>3</th>\n",
       "      <td>9</td>\n",
       "      <td>realtor.com</td>\n",
       "      <td>https://realtor.com/</td>\n",
       "      <td>business-and-consumer-services</td>\n",
       "      <td>screenshots/3d7521e8_https___realtor.com_.png</td>\n",
       "    </tr>\n",
       "    <tr>\n",
       "      <th>4</th>\n",
       "      <td>11</td>\n",
       "      <td>shopify.com</td>\n",
       "      <td>https://shopify.com/</td>\n",
       "      <td>business-and-consumer-services</td>\n",
       "      <td>screenshots/6a17b4bb_https___shopify.com_.png</td>\n",
       "    </tr>\n",
       "  </tbody>\n",
       "</table>\n",
       "</div>"
      ],
      "text/plain": [
       "   position         name                   url  \\\n",
       "0         2   zillow.com   https://zillow.com/   \n",
       "1         3     usps.com     https://usps.com/   \n",
       "2         6      ups.com      https://ups.com/   \n",
       "3         9  realtor.com  https://realtor.com/   \n",
       "4        11  shopify.com  https://shopify.com/   \n",
       "\n",
       "                         category  \\\n",
       "0  business-and-consumer-services   \n",
       "1  business-and-consumer-services   \n",
       "2  business-and-consumer-services   \n",
       "3  business-and-consumer-services   \n",
       "4  business-and-consumer-services   \n",
       "\n",
       "                                            path  \n",
       "0   screenshots/8c9df540_https___zillow.com_.png  \n",
       "1     screenshots/4e4f3456_https___usps.com_.png  \n",
       "2      screenshots/232df189_https___ups.com_.png  \n",
       "3  screenshots/3d7521e8_https___realtor.com_.png  \n",
       "4  screenshots/6a17b4bb_https___shopify.com_.png  "
      ]
     },
     "execution_count": 186,
     "metadata": {},
     "output_type": "execute_result"
    }
   ],
   "source": [
    "websites = pd.read_json('data/websites.json');\n",
    "print(websites.info())\n",
    "websites.head(5)"
   ]
  },
  {
   "cell_type": "markdown",
   "metadata": {},
   "source": [
    "В датасете `websites` представлена следующая структура данных:\n",
    "- `position` - положение сайта в рейтинге топ-сайтов согласно данным similarweb.com,\n",
    "- `name` - хостнейм сайта,\n",
    "- `url` - ссылка на сайт,\n",
    "- `category` - название категории, к которой отнесен сайт согласно своейсфере деятельности по данным similarweb.com,\n",
    "- `path` - относительный путь до скриншота сайта от места хранения датасета, является уникальным идентификатором. "
   ]
  },
  {
   "cell_type": "markdown",
   "metadata": {},
   "source": [
    "### Датасеты разметки\n",
    "Датасеты разметки от двух разметчиков представлены в виде json файлов в папках `data/data_markup_1` и `data/data_markup_2/`. "
   ]
  },
  {
   "cell_type": "code",
   "execution_count": 187,
   "metadata": {},
   "outputs": [
    {
     "name": "stdout",
     "output_type": "stream",
     "text": [
      "107\n",
      "109\n",
      " \n",
      "0261b53e_https___kompas.com_.json\n",
      "034c98a7_https___roblox.com_.json\n",
      "03a9e3fa_https___otzovik.com_.json\n",
      "060df3d1_https___nexusmods.com_.json\n",
      "0a44f209_https___hoyoverse.com_.json\n"
     ]
    }
   ],
   "source": [
    "ls 'data/data_markup_1/' | wc -l && ls 'data/data_markup_2/' | wc -l && echo \" \" && ls 'data/data_markup_1/' | head -n 5"
   ]
  },
  {
   "cell_type": "markdown",
   "metadata": {},
   "source": [
    "В датасетах `data_markup_1` и `data_markup_2` содержится разметка скриншотов в формате json. Название файла является идентификатором, по которому можно найти оригинальный скриншот и информацию о сайте в датасете websites.\n",
    "\n",
    "Выше приведен пример названий файлов. \n",
    "\n",
    "Так же стоит отметить, что в датасете Разметчика #1 отсутствует разметка двух сайтов, т.к. данные содержат битые скриншоты с плохим качеством. "
   ]
  },
  {
   "cell_type": "code",
   "execution_count": 188,
   "metadata": {},
   "outputs": [
    {
     "name": "stdout",
     "output_type": "stream",
     "text": [
      "{\n",
      "    \"version\": \"5.3.1\",\n",
      "    \"flags\": {},\n",
      "    \"shapes\": [\n",
      "        {\n",
      "            \"label\": \"button\",\n",
      "            \"points\": [\n",
      "                [\n",
      "                    1303.9999999999998,\n",
      "                    2097.916666666667\n",
      "                ],\n",
      "                [\n",
      "                    4031.083333333333,\n",
      "                    2254.166666666667\n",
      "                ]\n",
      "            ],\n",
      "            \"group_id\": null,\n",
      "            \"description\": \"\",\n",
      "            \"shape_type\": \"rectangle\",\n",
      "            \"flags\": {}\n",
      "        },\n",
      "        {\n",
      "            \"label\": \"button\",\n",
      "            \"points\": [\n",
      "                [\n",
      "                    1301.9166666666665,\n",
      "                    2266.666666666667\n",
      "                ],\n",
      "                [\n",
      "                    4031.083333333333,\n",
      "                    2435.416666666667\n",
      "                ]\n",
      "            ],\n",
      "            \"group_id\": null,\n",
      "            \"description\": \"\",\n",
      "            \"shape_type\": \"rectangle\",\n",
      "            \"flags\": {}\n",
      "        }\n",
      "    ],\n",
      "    \"imagePath\": \"f6cfd89e_https___gazzetta.it_.png\",\n",
      "    \"imageData\": null,\n",
      "    \"imageHeight\": 3000,\n",
      "    \"imageWidth\": 5283\n",
      "}\n"
     ]
    }
   ],
   "source": [
    "dir_path = 'data/data_markup_1/'\n",
    "files = os.listdir(dir_path)\n",
    "with open(os.path.join(dir_path, files[0]), 'r') as file:\n",
    "    data = json.dumps(json.load(file), indent=4)\n",
    "    print(data)"
   ]
  },
  {
   "cell_type": "markdown",
   "metadata": {},
   "source": [
    "В файле разметки содержатся следующище необходимые для обучения модели данные:\n",
    "- `version` - версия программного обеспечения LabelMe,\n",
    "- `shapes` - массив аннотаций с названием лейблов."
   ]
  },
  {
   "cell_type": "markdown",
   "metadata": {},
   "source": [
    "Если объединить скриншоты в папке `./data/screenshots/` с разметкой в папке `./data/data_markup_1/` или `./data/data_markup_2/`, то с помощью LabelMe можно просмотреть разметку. Для примера в папку `./data/labelme_preview_example` помещен скриншот и его разметка. Пример интерфейса при открытии папки в LabelMe приведен ниже. \n",
    "\n",
    "![button-annotation-example.png](./assets/button-annotation-example.png)"
   ]
  },
  {
   "cell_type": "markdown",
   "metadata": {},
   "source": [
    "### Анализ ответов разметчиков"
   ]
  },
  {
   "cell_type": "code",
   "execution_count": 189,
   "metadata": {},
   "outputs": [
    {
     "name": "stdout",
     "output_type": "stream",
     "text": [
      "<class 'pandas.core.frame.DataFrame'>\n",
      "RangeIndex: 111 entries, 0 to 110\n",
      "Data columns (total 9 columns):\n",
      " #   Column       Non-Null Count  Dtype  \n",
      "---  ------       --------------  -----  \n",
      " 0   name         109 non-null    object \n",
      " 1   pass_total   107 non-null    float64\n",
      " 2   pass_1       108 non-null    float64\n",
      " 3   fail_1       111 non-null    float64\n",
      " 4   pass_2       108 non-null    float64\n",
      " 5   fail_2       111 non-null    float64\n",
      " 6   broken_data  110 non-null    float64\n",
      " 7   Unnamed: 7   0 non-null      float64\n",
      " 8   0            109 non-null    float64\n",
      "dtypes: float64(8), object(1)\n",
      "memory usage: 7.9+ KB\n",
      "None\n"
     ]
    },
    {
     "data": {
      "text/html": [
       "<div>\n",
       "<style scoped>\n",
       "    .dataframe tbody tr th:only-of-type {\n",
       "        vertical-align: middle;\n",
       "    }\n",
       "\n",
       "    .dataframe tbody tr th {\n",
       "        vertical-align: top;\n",
       "    }\n",
       "\n",
       "    .dataframe thead th {\n",
       "        text-align: right;\n",
       "    }\n",
       "</style>\n",
       "<table border=\"1\" class=\"dataframe\">\n",
       "  <thead>\n",
       "    <tr style=\"text-align: right;\">\n",
       "      <th></th>\n",
       "      <th>name</th>\n",
       "      <th>pass_total</th>\n",
       "      <th>pass_1</th>\n",
       "      <th>fail_1</th>\n",
       "      <th>pass_2</th>\n",
       "      <th>fail_2</th>\n",
       "      <th>broken_data</th>\n",
       "      <th>Unnamed: 7</th>\n",
       "      <th>0</th>\n",
       "    </tr>\n",
       "  </thead>\n",
       "  <tbody>\n",
       "    <tr>\n",
       "      <th>0</th>\n",
       "      <td>0261b53e_https___kompas.com_.png</td>\n",
       "      <td>21.0</td>\n",
       "      <td>20.0</td>\n",
       "      <td>1.0</td>\n",
       "      <td>12.0</td>\n",
       "      <td>9.0</td>\n",
       "      <td>0.0</td>\n",
       "      <td>NaN</td>\n",
       "      <td>1.0</td>\n",
       "    </tr>\n",
       "    <tr>\n",
       "      <th>1</th>\n",
       "      <td>034c98a7_https___roblox.com_.png</td>\n",
       "      <td>2.0</td>\n",
       "      <td>2.0</td>\n",
       "      <td>0.0</td>\n",
       "      <td>2.0</td>\n",
       "      <td>0.0</td>\n",
       "      <td>0.0</td>\n",
       "      <td>NaN</td>\n",
       "      <td>1.0</td>\n",
       "    </tr>\n",
       "    <tr>\n",
       "      <th>2</th>\n",
       "      <td>03a9e3fa_https___otzovik.com_.png</td>\n",
       "      <td>2.0</td>\n",
       "      <td>2.0</td>\n",
       "      <td>0.0</td>\n",
       "      <td>2.0</td>\n",
       "      <td>0.0</td>\n",
       "      <td>0.0</td>\n",
       "      <td>NaN</td>\n",
       "      <td>1.0</td>\n",
       "    </tr>\n",
       "    <tr>\n",
       "      <th>3</th>\n",
       "      <td>060df3d1_https___nexusmods.com_.png</td>\n",
       "      <td>30.0</td>\n",
       "      <td>30.0</td>\n",
       "      <td>0.0</td>\n",
       "      <td>9.0</td>\n",
       "      <td>21.0</td>\n",
       "      <td>0.0</td>\n",
       "      <td>NaN</td>\n",
       "      <td>1.0</td>\n",
       "    </tr>\n",
       "    <tr>\n",
       "      <th>4</th>\n",
       "      <td>0a44f209_https___hoyoverse.com_.png</td>\n",
       "      <td>13.0</td>\n",
       "      <td>12.0</td>\n",
       "      <td>1.0</td>\n",
       "      <td>13.0</td>\n",
       "      <td>0.0</td>\n",
       "      <td>0.0</td>\n",
       "      <td>NaN</td>\n",
       "      <td>1.0</td>\n",
       "    </tr>\n",
       "  </tbody>\n",
       "</table>\n",
       "</div>"
      ],
      "text/plain": [
       "                                  name  pass_total  pass_1  fail_1  pass_2  \\\n",
       "0     0261b53e_https___kompas.com_.png        21.0    20.0     1.0    12.0   \n",
       "1     034c98a7_https___roblox.com_.png         2.0     2.0     0.0     2.0   \n",
       "2    03a9e3fa_https___otzovik.com_.png         2.0     2.0     0.0     2.0   \n",
       "3  060df3d1_https___nexusmods.com_.png        30.0    30.0     0.0     9.0   \n",
       "4  0a44f209_https___hoyoverse.com_.png        13.0    12.0     1.0    13.0   \n",
       "\n",
       "   fail_2  broken_data  Unnamed: 7    0  \n",
       "0     9.0          0.0         NaN  1.0  \n",
       "1     0.0          0.0         NaN  1.0  \n",
       "2     0.0          0.0         NaN  1.0  \n",
       "3    21.0          0.0         NaN  1.0  \n",
       "4     0.0          0.0         NaN  1.0  "
      ]
     },
     "execution_count": 189,
     "metadata": {},
     "output_type": "execute_result"
    }
   ],
   "source": [
    "answers = pd.read_csv('data/data_markup_review.csv')\n",
    "print(answers.info())\n",
    "answers.head(5)"
   ]
  },
  {
   "cell_type": "markdown",
   "metadata": {},
   "source": [
    "В датасете содержаться следующие поля:\n",
    "- `name` - название скриншота, по которому осуществлялась разметка,\n",
    "- `pass_1` - количество корректных аннотаций разметчиком 1,\n",
    "- `fail_1` - количество некорректный и пропущенных аннотаций разметчиком 1,\n",
    "- `pass_2` - количество корректных аннотаций разметчиком 2,\n",
    "- `fail_2` - количество некорректный и пропущенных аннотаций разметчиком 2,\n",
    "- `pass_total` - общее количество объектов на скриншоте, которые требуется аннотировать, \n",
    "- `broken_data` - является ли скриншот битым.\n",
    "\n",
    "Далее требуется провести очистку данных для дальнейшего анализа."
   ]
  },
  {
   "cell_type": "code",
   "execution_count": 190,
   "metadata": {},
   "outputs": [
    {
     "name": "stdout",
     "output_type": "stream",
     "text": [
      "0.03381125615236469\n"
     ]
    }
   ],
   "source": [
    "answers = answers[answers['broken_data'] == 0]\n",
    "answers_cropped = answers.drop(['broken_data', '0', 'Unnamed: 7'], axis=1)\n",
    "answers_cropped['result_1'] = answers_cropped['fail_1'] == 0\n",
    "answers_cropped['result_2'] = answers_cropped['fail_2'] == 0\n",
    "\n",
    "print(cohen_kappa_score(answers_cropped['result_1'], answers_cropped['result_2']))"
   ]
  },
  {
   "cell_type": "markdown",
   "metadata": {},
   "source": [
    "Если при расчете согласованности считать за корретный результат разметки точную разметку всех элементов на странице, тогда рейтинг согласованности разметчиков будет крайне низким и равным ~0.0338. \n",
    "\n",
    "Однако при такого рода рассчетах не учитывается единичные случае согласованности при разметке объектов внутри одной страницы. Т.е. например на странице находится 20 объектов, один из разметчиков разметил 20 корректно, второй 19 корректно и 1 лишнию, тогда рейтинг согласованности будет крайне высоким, однако в общей статистике первый разметчик будем иметь корректный результат разметки, а второй разметчик - некорректный.\n",
    "\n",
    "Для корректного расчета коэффициента Каппа Коэна по каждому объекту требуется проведение дополнительного анализа данных, выходящего за скоуп задачи.  "
   ]
  }
 ],
 "metadata": {
  "kernelspec": {
   "display_name": ".venv",
   "language": "python",
   "name": "python3"
  },
  "language_info": {
   "codemirror_mode": {
    "name": "ipython",
    "version": 3
   },
   "file_extension": ".py",
   "mimetype": "text/x-python",
   "name": "python",
   "nbconvert_exporter": "python",
   "pygments_lexer": "ipython3",
   "version": "3.10.6"
  }
 },
 "nbformat": 4,
 "nbformat_minor": 2
}
